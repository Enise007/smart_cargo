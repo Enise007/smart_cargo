{
 "cells": [
  {
   "cell_type": "code",
   "execution_count": 1,
   "id": "85fe0355",
   "metadata": {},
   "outputs": [],
   "source": [
    "import pandas as pd\n",
    "import numpy as np\n",
    "import faiss\n",
    "from sentence_transformers import SentenceTransformer"
   ]
  },
  {
   "cell_type": "code",
   "execution_count": 2,
   "id": "347bb470",
   "metadata": {},
   "outputs": [
    {
     "data": {
      "text/html": [
       "<div>\n",
       "<style scoped>\n",
       "    .dataframe tbody tr th:only-of-type {\n",
       "        vertical-align: middle;\n",
       "    }\n",
       "\n",
       "    .dataframe tbody tr th {\n",
       "        vertical-align: top;\n",
       "    }\n",
       "\n",
       "    .dataframe thead th {\n",
       "        text-align: right;\n",
       "    }\n",
       "</style>\n",
       "<table border=\"1\" class=\"dataframe\">\n",
       "  <thead>\n",
       "    <tr style=\"text-align: right;\">\n",
       "      <th></th>\n",
       "      <th>id</th>\n",
       "      <th>question</th>\n",
       "      <th>answer</th>\n",
       "    </tr>\n",
       "  </thead>\n",
       "  <tbody>\n",
       "    <tr>\n",
       "      <th>0</th>\n",
       "      <td>1</td>\n",
       "      <td>When will my cargo arrive?</td>\n",
       "      <td>Your cargo will be delivered tomorrow.</td>\n",
       "    </tr>\n",
       "    <tr>\n",
       "      <th>1</th>\n",
       "      <td>2</td>\n",
       "      <td>How can I track my cargo?</td>\n",
       "      <td>You can track it via our website or app.</td>\n",
       "    </tr>\n",
       "    <tr>\n",
       "      <th>2</th>\n",
       "      <td>3</td>\n",
       "      <td>Where is my cargo now?</td>\n",
       "      <td>Your cargo is currently at the transfer center.</td>\n",
       "    </tr>\n",
       "    <tr>\n",
       "      <th>3</th>\n",
       "      <td>4</td>\n",
       "      <td>My cargo wasn’t delivered</td>\n",
       "      <td>what should I do?,Please contact our customer ...</td>\n",
       "    </tr>\n",
       "    <tr>\n",
       "      <th>4</th>\n",
       "      <td>5</td>\n",
       "      <td>Can I change the delivery time?</td>\n",
       "      <td>Yes, you can update it through our app.</td>\n",
       "    </tr>\n",
       "  </tbody>\n",
       "</table>\n",
       "</div>"
      ],
      "text/plain": [
       "   id                         question  \\\n",
       "0   1       When will my cargo arrive?   \n",
       "1   2        How can I track my cargo?   \n",
       "2   3           Where is my cargo now?   \n",
       "3   4        My cargo wasn’t delivered   \n",
       "4   5  Can I change the delivery time?   \n",
       "\n",
       "                                              answer  \n",
       "0             Your cargo will be delivered tomorrow.  \n",
       "1           You can track it via our website or app.  \n",
       "2    Your cargo is currently at the transfer center.  \n",
       "3  what should I do?,Please contact our customer ...  \n",
       "4            Yes, you can update it through our app.  "
      ]
     },
     "execution_count": 2,
     "metadata": {},
     "output_type": "execute_result"
    }
   ],
   "source": [
    "df = pd.read_csv(\"C:/Users/enise/Desktop/questions_final_fixed_bom.csv\")\n",
    "df.head()"
   ]
  },
  {
   "cell_type": "code",
   "execution_count": 3,
   "id": "2dd5040b",
   "metadata": {},
   "outputs": [],
   "source": [
    "questions = df[\"question\"].tolist()"
   ]
  },
  {
   "cell_type": "code",
   "execution_count": 4,
   "id": "619ad3bb",
   "metadata": {},
   "outputs": [],
   "source": [
    "model = SentenceTransformer(\"paraphrase-MiniLM-L6-v2\")\n",
    "embeddings = model.encode(questions)"
   ]
  },
  {
   "cell_type": "code",
   "execution_count": 5,
   "id": "83b13c39",
   "metadata": {},
   "outputs": [],
   "source": [
    "dimension = embeddings.shape[1]\n",
    "index = faiss.IndexFlatL2(dimension)\n",
    "index.add(np.array(embeddings))"
   ]
  },
  {
   "cell_type": "code",
   "execution_count": 6,
   "id": "291bbb49",
   "metadata": {},
   "outputs": [],
   "source": [
    "def get_answer(user_question, top_k=1):\n",
    "    query_embedding = model.encode([user_question])\n",
    "    distances, indices = index.search(np.array(query_embedding), top_k)\n",
    "    return df.iloc[indices[0][0]][\"answer\"]"
   ]
  },
  {
   "cell_type": "code",
   "execution_count": 7,
   "id": "670653b3",
   "metadata": {},
   "outputs": [
    {
     "name": "stdout",
     "output_type": "stream",
     "text": [
      "Answer: You can track it via our website or app.\n"
     ]
    }
   ],
   "source": [
    "user_input = \"How can I track my cargo?\"\n",
    "print(\"Answer:\", get_answer(user_input))"
   ]
  },
  {
   "cell_type": "code",
   "execution_count": null,
   "id": "690d1723",
   "metadata": {},
   "outputs": [],
   "source": []
  }
 ],
 "metadata": {
  "kernelspec": {
   "display_name": "Python 3 (ipykernel)",
   "language": "python",
   "name": "python3"
  },
  "language_info": {
   "codemirror_mode": {
    "name": "ipython",
    "version": 3
   },
   "file_extension": ".py",
   "mimetype": "text/x-python",
   "name": "python",
   "nbconvert_exporter": "python",
   "pygments_lexer": "ipython3",
   "version": "3.11.5"
  }
 },
 "nbformat": 4,
 "nbformat_minor": 5
}
